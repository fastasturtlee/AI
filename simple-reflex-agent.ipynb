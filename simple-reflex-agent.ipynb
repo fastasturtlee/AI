{
 "cells": [
  {
   "cell_type": "markdown",
   "metadata": {},
   "source": [
    "Simple Reflex Agent"
   ]
  },
  {
   "cell_type": "code",
   "execution_count": 1,
   "metadata": {},
   "outputs": [],
   "source": [
    "import numpy as np\n"
   ]
  },
  {
   "cell_type": "code",
   "execution_count": 18,
   "metadata": {},
   "outputs": [],
   "source": [
    "environment = np.array([['D','C','D'],\n",
    "                        ['C','D','C'],\n",
    "                        ['D','D','C']]\n",
    "                        )\n",
    "\n",
    "class SimpleReflexAgent : \n",
    "    def __init__(self, environment):\n",
    "        self.location = (0,0)\n",
    "        self.environment = environment\n",
    "\n",
    "    def perceive(self):\n",
    "\n",
    "        return self.environment[self.location] == 'D'\n",
    "\n",
    "    def act(self):\n",
    "        if self.perceive():\n",
    "            self.environment[self.location] = 'C'\n",
    "        else:\n",
    "            self.move()\n",
    "\n",
    "    def move(self):\n",
    "        rows, cols = self.environment.shape\n",
    "        row,col = self.location\n",
    "\n",
    "        if col+1  < cols:\n",
    "            self.location = (row, col+1)\n",
    "        elif row+1 < rows:\n",
    "            self.location = (row+1, 0)\n",
    "        else:\n",
    "            print(\"skipiped\")"
   ]
  },
  {
   "cell_type": "code",
   "execution_count": 19,
   "metadata": {},
   "outputs": [
    {
     "name": "stdout",
     "output_type": "stream",
     "text": [
      "Initial Environment value [['D' 'C' 'D']\n",
      " ['C' 'D' 'C']\n",
      " ['D' 'D' 'C']]\n",
      "Current state of environment [['D' 'C' 'D']\n",
      " ['C' 'D' 'C']\n",
      " ['D' 'D' 'C']]\n",
      "Current state of environment [['C' 'C' 'D']\n",
      " ['C' 'D' 'C']\n",
      " ['D' 'D' 'C']]\n",
      "Current state of environment [['C' 'C' 'D']\n",
      " ['C' 'D' 'C']\n",
      " ['D' 'D' 'C']]\n",
      "Current state of environment [['C' 'C' 'D']\n",
      " ['C' 'D' 'C']\n",
      " ['D' 'D' 'C']]\n",
      "Current state of environment [['C' 'C' 'C']\n",
      " ['C' 'D' 'C']\n",
      " ['D' 'D' 'C']]\n",
      "Current state of environment [['C' 'C' 'C']\n",
      " ['C' 'D' 'C']\n",
      " ['D' 'D' 'C']]\n",
      "Current state of environment [['C' 'C' 'C']\n",
      " ['C' 'D' 'C']\n",
      " ['D' 'D' 'C']]\n",
      "Current state of environment [['C' 'C' 'C']\n",
      " ['C' 'C' 'C']\n",
      " ['D' 'D' 'C']]\n",
      "Current state of environment [['C' 'C' 'C']\n",
      " ['C' 'C' 'C']\n",
      " ['D' 'D' 'C']]\n",
      "Current state of environment [['C' 'C' 'C']\n",
      " ['C' 'C' 'C']\n",
      " ['D' 'D' 'C']]\n",
      "Current state of environment [['C' 'C' 'C']\n",
      " ['C' 'C' 'C']\n",
      " ['C' 'D' 'C']]\n",
      "Current state of environment [['C' 'C' 'C']\n",
      " ['C' 'C' 'C']\n",
      " ['C' 'D' 'C']]\n",
      "all the cell is completed\n",
      "Final state of environment [['C' 'C' 'C']\n",
      " ['C' 'C' 'C']\n",
      " ['C' 'C' 'C']]\n"
     ]
    }
   ],
   "source": [
    "agent = SimpleReflexAgent(environment);\n",
    "\n",
    "print('Initial Environment value',environment)\n",
    "while True:\n",
    "\n",
    "    if(np.all(environment == 'C')):\n",
    "        print('all the cell is completed')\n",
    "        break\n",
    "\n",
    "    print('Current state of environment',environment)\n",
    "    agent.act()\n",
    "\n",
    "print(\"Final state of environment\",environment)"
   ]
  }
 ],
 "metadata": {
  "kernelspec": {
   "display_name": "Python 3",
   "language": "python",
   "name": "python3"
  },
  "language_info": {
   "codemirror_mode": {
    "name": "ipython",
    "version": 3
   },
   "file_extension": ".py",
   "mimetype": "text/x-python",
   "name": "python",
   "nbconvert_exporter": "python",
   "pygments_lexer": "ipython3",
   "version": "3.12.7"
  }
 },
 "nbformat": 4,
 "nbformat_minor": 2
}
